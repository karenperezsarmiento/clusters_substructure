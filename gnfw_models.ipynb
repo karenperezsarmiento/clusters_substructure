{
 "cells": [
  {
   "cell_type": "code",
   "execution_count": 1,
   "metadata": {},
   "outputs": [],
   "source": [
    "import jax\n",
    "jax.config.update('jax_enable_x64',True)\n",
    "jax.config.update('jax_platform_name','cpu')\n",
    "\n",
    "import jax.numpy as jnp\n",
    "\n",
    "from astropy.cosmology import Planck15 as cosmo\n",
    "from astropy import constants as const\n",
    "from astropy import units as u\n",
    "\n",
    "import numpy as np\n",
    "import timeit\n",
    "import time"
   ]
  },
  {
   "cell_type": "code",
   "execution_count": 2,
   "metadata": {},
   "outputs": [],
   "source": [
    "import matplotlib.pyplot as plt\n",
    "%matplotlib inline"
   ]
  },
  {
   "cell_type": "code",
   "execution_count": 3,
   "metadata": {},
   "outputs": [],
   "source": [
    "# Constants\n",
    "# --------------------------------------------------------\n",
    "\n",
    "h70 = cosmo.H0.value/7.00E+01\n",
    "\n",
    "Tcmb = 2.7255\n",
    "kb = const.k_B.value\n",
    "me = ((const.m_e*const.c**2).to(u.keV)).value\n",
    "h  = const.h.value\n",
    "Xthom = const.sigma_T.to(u.cm**2).value\n",
    "\n",
    "Mparsec = u.Mpc.to(u.cm)\n",
    "\n",
    "# Cosmology \n",
    "# --------------------------------------------------------\n",
    "dzline = np.linspace(0.00,5.00,1000)\n",
    "daline = cosmo.angular_diameter_distance(dzline)/u.radian\n",
    "nzline = cosmo.critical_density(dzline)\n",
    "hzline = cosmo.H(dzline)/cosmo.H0\n",
    "\n",
    "daline = daline.to(u.Mpc/u.arcsec)\n",
    "nzline = nzline.to(u.Msun/u.Mpc**3)\n",
    "\n",
    "dzline = jnp.array(dzline)\n",
    "hzline = jnp.array(hzline.value)\n",
    "nzline = jnp.array(nzline.value)\n",
    "daline = jnp.array(daline.value)"
   ]
  },
  {
   "cell_type": "code",
   "execution_count": 4,
   "metadata": {},
   "outputs": [],
   "source": [
    "# Compton y to Kcmb\n",
    "# --------------------------------------------------------\n",
    "@jax.partial(jax.jit, static_argnums = (0,1))\n",
    "def y2K_CMB(freq,Te):\n",
    "    x = freq*h/kb/Tcmb\n",
    "    xt = x/jnp.tanh(0.5*x)\n",
    "    st = x/jnp.sinh(0.5*x)\n",
    "    Y0 = -4.0+xt\n",
    "    Y1 = -10.+((47./2.)+(-(42./5.)+(7./10.)*xt)*xt)*xt+st*st*(-(21./5.)+(7./5.)*xt)\n",
    "    Y2 = (-15./2.)+((1023./8.)+((-868./5.)+((329./5.)+((-44./5.)+(11./30.)*xt)*xt)*xt)*xt)*xt+ \\\n",
    "       ((-434./5.)+((658./5.)+((-242./5.)+(143./30.)*xt)*xt)*xt+(-(44./5.)+(187./60.)*xt)*(st*st))*st*st\n",
    "    Y3 = (15./2.)+((2505./8.)+((-7098./5.)+((14253./10.)+((-18594./35.)+((12059./140.)+((-128./21.)+(16./105.)*xt)*xt)*xt)*xt)*xt)*xt)*xt+ \\\n",
    "       (((-7098./10.)+((14253./5.)+((-102267./35.)+((156767./140.)+((-1216./7.)+(64./7.)*xt)*xt)*xt)*xt)*xt) +\n",
    "       (((-18594./35.)+((205003./280.)+((-1920./7.)+(1024./35.)*xt)*xt)*xt) +((-544./21.)+(992./105.)*xt)*st*st)*st*st)*st*st\n",
    "    Y4 = (-135./32.)+((30375./128.)+((-62391./10.)+((614727./40.)+((-124389./10.)+((355703./80.)+((-16568./21.)+((7516./105.)+((-22./7.)+(11./210.)*xt)*xt)*xt)*xt)*xt)*xt)*xt)*xt)*xt + \\\n",
    "       ((-62391./20.)+((614727./20.)+((-1368279./20.)+((4624139./80.)+((-157396./7.)+((30064./7.)+((-2717./7.)+(2761./210.)*xt)*xt)*xt)*xt)*xt)*xt)*xt + \\\n",
    "       ((-124389./10.)+((6046951./160.)+((-248520./7.)+((481024./35.)+((-15972./7.)+(18689./140.)*xt)*xt)*xt)*xt)*xt +\\\n",
    "       ((-70414./21.)+((465992./105.)+((-11792./7.)+(19778./105.)*xt)*xt)*xt+((-682./7.)+(7601./210.)*xt)*st*st)*st*st)*st*st)*st*st\n",
    "    factor = Y0+(Te/me)*(Y1+(Te/me)*(Y2+(Te/me)*(Y3+(Te/me)*Y4)))\n",
    "    return factor*Tcmb\n",
    "\n",
    "@jax.partial(jax.jit,static_argnums=(0,))\n",
    "def K_CMB2K_RJ(freq):\n",
    "    x = freq*h/kb/Tcmb\n",
    "    return jnp.exp(x)*x*x/jnp.expm1(x)**2\n",
    "\n",
    "@jax.partial(jax.jit, static_argnums = (0,1))\n",
    "def y2K_RJ(freq,Te):\n",
    "    factor = y2K_CMB(freq,Te)\n",
    "    return factor*K_CMB2K_RJ(freq)\n"
   ]
  },
  {
   "cell_type": "code",
   "execution_count": 96,
   "metadata": {},
   "outputs": [],
   "source": [
    "# Beam-convolved gNFW profiel\n",
    "# --------------------------------------------------------\n",
    "def conv_int_gnfw(p,xi,yi,z,max_R=10.00,fwhm=8.7,freq=90e9,T_electron=5.0,r_map=15.0*60,dr=0.5):\n",
    "    \n",
    "    x0, y0, P0, c500, alpha, beta, gamma, m500 = p\n",
    "    hz = jnp.interp(z,dzline,hzline)\n",
    "    nz = jnp.interp(z,dzline,nzline)\n",
    "    \n",
    "    ap = 0.12\n",
    "    \n",
    "    r500 = (m500/(4.00*jnp.pi/3.00)/5.00E+02/nz)**(1.00/3.00)\n",
    "    P500 = 1.65E-03*(m500/(3.00E+14/h70))**(2.00/3.00+ap)*hz**(8.00/3.00)*h70**2\n",
    "    \n",
    "    dR = max_R/2e3\n",
    "    r = jnp.arange(0.00,max_R,dR)+dR/2.00\n",
    "    x = r/r500\n",
    "    pressure = P500*P0/((c500*x)**gamma*(1.00+(c500*x)**alpha)**((beta-gamma)/alpha))\n",
    "    rmap = jnp.arange(1e-10,r_map,dr) \n",
    "    r_in_Mpc = rmap*(jnp.interp(z,dzline,daline))\n",
    "    rr = jnp.meshgrid(r_in_Mpc,r_in_Mpc)\n",
    "    rr = jnp.sqrt(rr[0]**2+rr[1]**2)\n",
    "    yy = jnp.interp(rr,r,pressure,right=0.)\n",
    "    \n",
    "    XMpc = Xthom*Mparsec\n",
    "    \n",
    "    ip = jnp.sum(yy,axis=1)*2.*XMpc/(me*1000)\n",
    "    \n",
    "    x = jnp.arange(-1.5*fwhm//(dr),1.5*fwhm//(dr))*(dr)\n",
    "    nx = x.shape[0]//2+1\n",
    "    \n",
    "    ipp = jnp.concatenate((ip[0:nx][::-1],ip))\n",
    "    \n",
    "    return ip"
   ]
  },
  {
   "cell_type": "code",
   "execution_count": 97,
   "metadata": {},
   "outputs": [],
   "source": [
    "def convo(ip,dr=0.5,fwhm=8.7):\n",
    "    x = jnp.arange(-1.5*fwhm//(dr),1.5*fwhm//(dr))*(dr)\n",
    "    B_1 = 0.94\n",
    "    B_2 = 0.06\n",
    "    sigma_1 = 3.69 #arcsec\n",
    "    sigma_2 = 12.1 #arcsec\n",
    "    \n",
    "    beam_mustang = B_1*jnp.exp(-1*x**2/(2*sigma_1**2))+B_2*jnp.exp(-1*x**2/(2*sigma_2**2))\n",
    "    \n",
    "    beam_mustang = beam_mustang/jnp.sum(beam_mustang)\n",
    "    #beam = jnp.exp(-4*np.log(2)*x**2/fwhm**2)\n",
    "    #beam = beam/jnp.sum(beam)\n",
    "    \n",
    "    nx = x.shape[0]//2+1\n",
    "    \n",
    "    ipp = jnp.concatenate((ip[0:nx][::-1],ip))\n",
    "    ip = jnp.convolve(ipp,beam_mustang,mode='same')[nx:]\n",
    "    \n",
    "    ip = ip*y2K_RJ(freq=freq,Te=T_electron)\n",
    "    \n",
    "    dx = (xi-x0)*jnp.cos(yi)\n",
    "    dy  = yi-y0\n",
    "    dr = jnp.sqrt(dx*dx + dy*dy)*180./np.pi*3600. \n",
    "    return jnp.interp(dr,rmap,ip,right=0.)\n",
    "    "
   ]
  },
  {
   "cell_type": "code",
   "execution_count": 67,
   "metadata": {},
   "outputs": [],
   "source": [
    "def pressure_bar(p,xi,yi,z,max_R=10.00,fwhm=8.7,freq=90e9,T_electron=5.0,r_map=15.0*60,dr=0.5):\n",
    "    \n",
    "    \n",
    "    x0, y0, P0, c500, alpha, beta, gamma, m500 = p\n",
    "    hz = jnp.interp(z,dzline,hzline)\n",
    "    nz = jnp.interp(z,dzline,nzline)\n",
    "    \n",
    "    ap = 0.12\n",
    "    \n",
    "    r500 = (m500/(4.00*jnp.pi/3.00)/5.00E+02/nz)**(1.00/3.00)\n",
    "    P500 = 1.65E-03*(m500/(3.00E+14/h70))**(2.00/3.00+ap)*hz**(8.00/3.00)*h70**2\n",
    "    \n",
    "    dR = max_R/2e3\n",
    "    r = jnp.arange(0.00,max_R,dR)+dR/2.00\n",
    "    x = r/r500\n",
    "    pressure = 0.3*P500*P0/((c500*x)**gamma*(1.00+(c500*x)**alpha)**((beta-gamma)/alpha))\n",
    "    rmap = jnp.arange(1e-10,r_map,dr) \n",
    "    r_in_Mpc = rmap*(jnp.interp(z,dzline,daline))\n",
    "    rr = jnp.meshgrid(r_in_Mpc,r_in_Mpc)\n",
    "    rr = jnp.sqrt((rr[0])**2+(rr[1])**2)\n",
    "    yy = jnp.interp(rr,r,pressure,right=0.)\n",
    "    \n",
    "    XMpc = Xthom*Mparsec\n",
    "    \n",
    "    ip = jnp.sum(yy,axis=1)*2.*XMpc/(me*1000)\n",
    "    \n",
    "    x = jnp.arange(-1.5*fwhm//(dr),1.5*fwhm//(dr))*(dr)\n",
    "    B_1 = 0.94\n",
    "    B_2 = 0.06\n",
    "    sigma_1 = 3.69 #arcsec\n",
    "    sigma_2 = 12.1 #arcsec\n",
    "    \n",
    "    beam_mustang = B_1*jnp.exp(-1*x**2/(2*sigma_1**2))+B_2*jnp.exp(-1*x**2/(2*sigma_2**2))\n",
    "    \n",
    "    beam_mustang = beam_mustang/jnp.sum(beam_mustang)\n",
    "    #beam = jnp.exp(-4*np.log(2)*x**2/fwhm**2)\n",
    "    #beam = beam/jnp.sum(beam)\n",
    "    \n",
    "    nx = x.shape[0]//2+1\n",
    "    \n",
    "    ipp = jnp.concatenate((ip[0:nx][::-1],ip))\n",
    "    ip = jnp.convolve(ipp,beam_mustang,mode='same')[nx:]\n",
    "    \n",
    "    ip = ip*y2K_RJ(freq=freq,Te=T_electron)\n",
    "    \n",
    "    dx = (xi-x0)*jnp.cos(yi)\n",
    "    dy  = yi-y0\n",
    "    dr = jnp.sqrt(dx*dx*25 + dy*dy*2.25)*180./np.pi*3600. \n",
    "    \n",
    "    return ip\n",
    "    "
   ]
  },
  {
   "cell_type": "code",
   "execution_count": 68,
   "metadata": {},
   "outputs": [],
   "source": [
    "def bimodal_system(p,xi,yi,z,separation):\n",
    "    \n",
    "    max_R=10.00\n",
    "    fwhm=8.7\n",
    "    freq=90e9\n",
    "    T_electron=5.0\n",
    "    r_map=15.0*60\n",
    "    dr=0.5\n",
    "    \n",
    "    separation_radians=(separation/3600)*np.pi/180.\n",
    "    x0, y0, P0, c500, alpha, beta, gamma, m500 = p\n",
    "    x0_1 = x0 - separation_radians/2.0\n",
    "    x0_2 = x0 + separation_radians/2.0\n",
    "    \n",
    "    p1 = [x0_1,y0,P0,c500,alpha,beta,gamma,m500]\n",
    "    p2 = [x0_2,y0,P0,c500,alpha,beta,gamma,m500]\n",
    "    \n",
    "    \n",
    "    cluster1=conv_int_gnfw(p1,xi,yi,z,max_R,fwhm,freq,T_electron,r_map,dr)\n",
    "    cluster2=conv_int_gnfw(p2,xi,yi,z,max_R,fwhm,freq,T_electron,r_map,dr)\n",
    "    bar=pressure_bar(p,xi,yi,z,max_R,fwhm,freq,T_electron,r_map,dr)\n",
    "    \n",
    "    merger = cluster1+cluster2+bar\n",
    "    return merger"
   ]
  },
  {
   "cell_type": "code",
   "execution_count": 87,
   "metadata": {},
   "outputs": [],
   "source": [
    "def maincore_plus_extension(p,xi,yi,z,separation):\n",
    "    x0, y0, P0, c500, alpha, beta, gamma, m500_core, m500_ext = p\n",
    "    \n",
    "    max_R=10.00\n",
    "    fwhm=8.7\n",
    "    freq=90e9\n",
    "    T_electron=5.0\n",
    "    r_map=15.0*60\n",
    "    dr=0.5\n",
    "    \n",
    "    \n",
    "    separation_radians=(separation/3600)*np.pi/180\n",
    "    x0_1 = x0 - separation_radians/2.0\n",
    "    x0_2 = x0 + separation_radians/2.0\n",
    "    \n",
    "    p_core = [x0_1,y0,P0,c500,alpha,beta,gamma,m500_core]\n",
    "    p_ext = [x0_2,y0,P0,c500,alpha,beta,gamma,m500_ext]\n",
    "    \n",
    "    core=conv_int_gnfw(p_core,xi,yi,z,max_R,fwhm,freq,T_electron,r_map,dr)\n",
    "    extension=conv_int_gnfw(p_ext,xi,yi,z,max_R,fwhm,freq,T_electron,r_map,dr)\n",
    "    core_extension = core+extension\n",
    "    \n",
    "    return core_extension"
   ]
  },
  {
   "cell_type": "code",
   "execution_count": null,
   "metadata": {},
   "outputs": [],
   "source": [
    "gamma_ad=5./3.\n",
    "M=3.\n",
    "P1_P2=2*M**2*gamma_ad/(gamma_ad+1)+(gamma_ad-1)/(gamma_ad+1)"
   ]
  },
  {
   "cell_type": "code",
   "execution_count": null,
   "metadata": {},
   "outputs": [],
   "source": []
  },
  {
   "cell_type": "code",
   "execution_count": 78,
   "metadata": {},
   "outputs": [],
   "source": [
    "#parameters:\n",
    "radius_500 = 1 #1 mpc = 1000 kpc \n",
    "m_500=(4.*np.pi/3.)*radius_500**3/(500*nzline[80])\n",
    "x0 = 0.0\n",
    "y0 = 0.0\n",
    "alpha=1.0510\n",
    "beta=5.4905\n",
    "gamma=0.3081\n",
    "P0=8.403\n",
    "c500=1.177\n",
    "\n",
    "arcmin2_rads=(2./60.)*np.pi/180\n",
    "\n",
    "p = [x0,y0,P0,c500,alpha,beta,gamma,m_500]\n",
    "\n",
    "\n",
    "x=np.linspace(-1*arcmin2_rads,arcmin2_rads,1000)\n",
    "y=np.linspace(-1*arcmin2_rads,arcmin2_rads,1000)\n",
    "\n",
    "x_coords,y_coords = np.meshgrid(x,y)\n",
    "z=0.4 #Romero et al 2015, Table 1"
   ]
  },
  {
   "cell_type": "code",
   "execution_count": 82,
   "metadata": {},
   "outputs": [],
   "source": [
    "radius_core=1.\n",
    "radius_ext= 0.3\n",
    "m_500_core = (4.*np.pi/3.)*radius_core**3/(500*nzline[80])\n",
    "m_500_ext = (4.*np.pi/3.)*radius_ext**3/(500*nzline[80])\n",
    "p_core_ext = x0, y0, P0, c500, alpha, beta, gamma, m_500_core, m_500_ext"
   ]
  },
  {
   "cell_type": "code",
   "execution_count": 79,
   "metadata": {},
   "outputs": [],
   "source": [
    "two_clusters=bimodal_system(p,x_coords,y_coords,1.,separation=25)"
   ]
  },
  {
   "cell_type": "code",
   "execution_count": 88,
   "metadata": {},
   "outputs": [],
   "source": [
    "core_ext = maincore_plus_extension(p_core_ext,x_coords,y_coords,z,separation=10)"
   ]
  },
  {
   "cell_type": "code",
   "execution_count": 91,
   "metadata": {},
   "outputs": [],
   "source": [
    "from matplotlib.colors import LogNorm"
   ]
  },
  {
   "cell_type": "code",
   "execution_count": 95,
   "metadata": {},
   "outputs": [
    {
     "data": {
      "text/plain": [
       "<matplotlib.colorbar.Colorbar at 0x7f92987aa0a0>"
      ]
     },
     "execution_count": 95,
     "metadata": {},
     "output_type": "execute_result"
    },
    {
     "data": {
      "image/png": "[encoded data removed]",
      "text/plain": [
       "<Figure size 432x288 with 2 Axes>"
      ]
     },
     "metadata": {
      "needs_background": "light"
     },
     "output_type": "display_data"
    }
   ],
   "source": [
    "plt.imshow(np.log(np.abs(core_ext)))\n",
    "plt.colorbar()"
   ]
  },
  {
   "cell_type": "code",
   "execution_count": null,
   "metadata": {},
   "outputs": [],
   "source": [
    "core_plus_ext=maincore_plus_extension(p,1,0.8,x_coords,y_coords,separation=3)"
   ]
  },
  {
   "cell_type": "code",
   "execution_count": null,
   "metadata": {},
   "outputs": [],
   "source": [
    "plt.imshow(core_plus_ext)\n",
    "plt.colorbar()"
   ]
  },
  {
   "cell_type": "code",
   "execution_count": null,
   "metadata": {},
   "outputs": [],
   "source": []
  }
 ],
 "metadata": {
  "kernelspec": {
   "display_name": "Python 3",
   "language": "python",
   "name": "python3"
  },
  "language_info": {
   "codemirror_mode": {
    "name": "ipython",
    "version": 3
   },
   "file_extension": ".py",
   "mimetype": "text/x-python",
   "name": "python",
   "nbconvert_exporter": "python",
   "pygments_lexer": "ipython3",
   "version": "3.8.3"
  }
 },
 "nbformat": 4,
 "nbformat_minor": 4
}
