{
 "cells": [
  {
   "cell_type": "code",
   "execution_count": 4,
   "metadata": {},
   "outputs": [],
   "source": [
    "import numpy as np\n",
    "from astropy.coordinates import SkyCoord\n",
    "from astropy import wcs"
   ]
  },
  {
   "cell_type": "code",
   "execution_count": 6,
   "metadata": {},
   "outputs": [],
   "source": [
    "def get_manual_src():\n",
    "    MOO1506_manual_src_ra_hms=['15h06m25.30s','15h06m24.92s','15h05m55.906s','15h05m49.588s','15h06m45.737s','15h05m44.705s']\n",
    "    MOO1506_manual_src_dec_dms=['+51d36m49s','+51d35m19.8s','+51d38m40.77s','+51d39m02.68s','+51d33m00.306s','+51d38m51.42s']\n",
    "    MOO1506_manual_src_ra_deg=SkyCoord(simons_src_ra_hms,simons_src_dec_dms,frame='icrs').ra.degree\n",
    "    MOO1506_manual_src_dec_deg=SkyCoord(simons_src_ra_hms,simons_src_dec_dms,frame='icrs').dec.degree\n",
    "    MOO1506_manual_src=np.array(list(zip(simons_src_ra_deg,simons_src_dec_deg)))\n",
    "    return MOO1506_manual_src"
   ]
  },
  {
   "cell_type": "code",
   "execution_count": null,
   "metadata": {},
   "outputs": [],
   "source": []
  }
 ],
 "metadata": {
  "kernelspec": {
   "display_name": "Python 3",
   "language": "python",
   "name": "python3"
  },
  "language_info": {
   "codemirror_mode": {
    "name": "ipython",
    "version": 3
   },
   "file_extension": ".py",
   "mimetype": "text/x-python",
   "name": "python",
   "nbconvert_exporter": "python",
   "pygments_lexer": "ipython3",
   "version": "3.7.7"
  }
 },
 "nbformat": 4,
 "nbformat_minor": 4
}
